{
 "cells": [
  {
   "cell_type": "markdown",
   "id": "e684935f",
   "metadata": {},
   "source": [
    "###  SVM Classifier"
   ]
  },
  {
   "cell_type": "markdown",
   "id": "0d3388c3",
   "metadata": {},
   "source": [
    "##### Equation of the Hyperplane"
   ]
  },
  {
   "cell_type": "markdown",
   "id": "a1b3e3c9",
   "metadata": {},
   "source": [
    "##### y = wx - b"
   ]
  },
  {
   "cell_type": "markdown",
   "id": "21612e9b",
   "metadata": {},
   "source": [
    "###### Gradient Descent"
   ]
  },
  {
   "cell_type": "markdown",
   "id": "c1500854",
   "metadata": {},
   "source": [
    "Gradient Descent is an optimization algorithm used for minimizing the loss function in various machine learning algorithms. It is used for updating the parameters of the learning model.\n",
    "\n",
    "w = w - α*dw\n",
    "\n",
    "b = b - α*db"
   ]
  },
  {
   "cell_type": "markdown",
   "id": "befde3d5",
   "metadata": {},
   "source": [
    "###### Learning Rate"
   ]
  },
  {
   "cell_type": "markdown",
   "id": "d19b3d7b",
   "metadata": {},
   "source": [
    "Learning rate is a tuning parameter in an optimization algorithm that determines the step size at each iteration while moving toward a minimum of a loss function."
   ]
  },
  {
   "cell_type": "markdown",
   "id": "d5e5b655",
   "metadata": {},
   "source": [
    "## Importing the dependencies:"
   ]
  },
  {
   "cell_type": "code",
   "execution_count": 1,
   "id": "23b89bd5",
   "metadata": {},
   "outputs": [],
   "source": [
    "#importing the numpy library\n",
    "import numpy as np"
   ]
  },
  {
   "cell_type": "markdown",
   "id": "68c7ebe5",
   "metadata": {},
   "source": [
    "##### Support Vector Machine Classifier"
   ]
  },
  {
   "cell_type": "code",
   "execution_count": 2,
   "id": "121a36e9",
   "metadata": {},
   "outputs": [],
   "source": [
    "class SVM_Classifier():\n",
    "    \n",
    "    #initializing the hyperparameters:\n",
    "    def __init__(self, learning_rate, no_of_iterations, lambda_parameter):\n",
    "        self.learning_rate = learning_rate\n",
    "        self.no_of_iterations = no_of_iterations\n",
    "        self.lambda_parameters = lambda_parameter\n",
    "        \n",
    "    #fitting the dataset into SVM Classifier:\n",
    "    def fit(self, X, Y):\n",
    "        \n",
    "        #m --> Number of datapoints --> NUmber of rows\n",
    "        #n --> Number of input features --> number of columns\n",
    "        \n",
    "        self.m, self.n = X.shape\n",
    "        \n",
    "        #initiating the weight value and bias value\n",
    "        \n",
    "        self.w = np.zeros(self.n)\n",
    "        self.b = 0\n",
    "        self.X = X\n",
    "        self.Y = Y\n",
    "        \n",
    "        #implementing the gradient descent algorithm for optimization\n",
    "        \n",
    "        for i in range(self.no_of_iterations):\n",
    "            \n",
    "            self.update_weights()\n",
    "            \n",
    "            \n",
    "        #function for updating weight and bias value\n",
    "        \n",
    "        def update_weights(self):\n",
    "            \n",
    "            \n",
    "            #label encoding\n",
    "            \n",
    "            y_label = np.where(self.Y <= 0, -1, 1)\n",
    "            \n",
    "            \n",
    "            #gradients--> dw, db\n",
    "            \n",
    "             for index , x_i in enumerate(self.X):\n",
    "                    \n",
    "                    condition = y_label[index] * (np.dot(x_i, self.w) - self.b) >= 1\n",
    "                    \n",
    "                    \n",
    "                    if (condition == True):\n",
    "                        \n",
    "                        dw = 2 * self.lambda_parameter * self.w\n",
    "                        \n",
    "                        db = 0\n",
    "\n",
    "                    else:\n",
    "                        \n",
    "                        dw = 2 * self.lambda_parameter * self.w - np.dot(x_i, y_label[index])\n",
    "                        \n",
    "                        db = y_label[index]\n",
    "                        \n",
    "\n",
    "\n",
    "            self.w = self.w - self.learning_rate * dw\n",
    "\n",
    "            self.b = self.b - self.learning_rate * db\n",
    "            \n",
    "\n",
    "            \n",
    "        # predict the label for a given input value\n",
    "        \n",
    "        def predict(self, X):\n",
    "            \n",
    "            output = np.dot(X, self.w) - self.b\n",
    "            \n",
    "            predicted_labels = np.sign(output)\n",
    "            \n",
    "            y_hat = np.where(predicted_labels <= -1, 0, 1)\n",
    "            \n",
    "            return y_hat\n",
    "\n",
    "    \n",
    "        \n",
    "        \n",
    "        "
   ]
  },
  {
   "cell_type": "code",
   "execution_count": null,
   "id": "cfc81b00",
   "metadata": {},
   "outputs": [],
   "source": []
  }
 ],
 "metadata": {
  "kernelspec": {
   "display_name": "Python 3 (ipykernel)",
   "language": "python",
   "name": "python3"
  },
  "language_info": {
   "codemirror_mode": {
    "name": "ipython",
    "version": 3
   },
   "file_extension": ".py",
   "mimetype": "text/x-python",
   "name": "python",
   "nbconvert_exporter": "python",
   "pygments_lexer": "ipython3",
   "version": "3.10.2"
  }
 },
 "nbformat": 4,
 "nbformat_minor": 5
}
