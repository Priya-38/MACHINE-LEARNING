{
 "cells": [
  {
   "cell_type": "markdown",
   "id": "c816c199",
   "metadata": {},
   "source": [
    "### Importing the dependencies"
   ]
  },
  {
   "cell_type": "code",
   "execution_count": 1,
   "id": "b69dd335",
   "metadata": {},
   "outputs": [],
   "source": [
    "import numpy as np"
   ]
  },
  {
   "cell_type": "markdown",
   "id": "4870d632",
   "metadata": {},
   "source": [
    "## Euclidean Distance"
   ]
  },
  {
   "cell_type": "code",
   "execution_count": 2,
   "id": "14470103",
   "metadata": {},
   "outputs": [],
   "source": [
    "#consider the point with two dimension:\n",
    "p1 = (1,1)\n",
    "p2 = (2,2)"
   ]
  },
  {
   "cell_type": "code",
   "execution_count": 5,
   "id": "f3c20650",
   "metadata": {},
   "outputs": [
    {
     "name": "stdout",
     "output_type": "stream",
     "text": [
      "1.4142135623730951\n"
     ]
    }
   ],
   "source": [
    "#calculating Euclidean Distance\n",
    "dist = (p1[0] - p2[0])**2 + (p1[1] - p2[1])**2\n",
    "euclidean_dist = np.sqrt(dist)\n",
    "print(euclidean_dist)"
   ]
  },
  {
   "cell_type": "code",
   "execution_count": 9,
   "id": "53160d97",
   "metadata": {},
   "outputs": [
    {
     "name": "stdout",
     "output_type": "stream",
     "text": [
      "1.7320508075688772\n"
     ]
    }
   ],
   "source": [
    "#consider two points with 3 dimensions:\n",
    "p1 = (1,1,1)\n",
    "p2 = (2,2,2)\n",
    "\n",
    "#calculating Euclidean Distance\n",
    "dist = (p1[0] - p2[0])**2 + (p1[1] - p2[1])**2 + (p1[2] - p2[2])**2\n",
    "euclidean_dist = np.sqrt(dist)\n",
    "print(euclidean_dist)"
   ]
  },
  {
   "cell_type": "code",
   "execution_count": 10,
   "id": "1543c544",
   "metadata": {},
   "outputs": [
    {
     "name": "stdout",
     "output_type": "stream",
     "text": [
      "2.0\n"
     ]
    }
   ],
   "source": [
    "#consider two points with 4 dimensions:\n",
    "p1 = (1,1,1,1)\n",
    "p2 = (2,2,2,2)\n",
    "\n",
    "#calculating Euclidean Distance\n",
    "dist = (p1[0] - p2[0])**2 + (p1[1] - p2[1])**2 + (p1[2] - p2[2])**2 + (p1[3] - p2[3])**2\n",
    "euclidean_dist = np.sqrt(dist)\n",
    "print(euclidean_dist)"
   ]
  },
  {
   "cell_type": "markdown",
   "id": "acf24180",
   "metadata": {},
   "source": [
    "### Creating a function for calculating Euclidean Distance"
   ]
  },
  {
   "cell_type": "code",
   "execution_count": 15,
   "id": "34e48a2b",
   "metadata": {},
   "outputs": [],
   "source": [
    "def get_euclidean_distance(p1, p2):\n",
    "    dist = 0\n",
    "    for i in range(len(p1)):\n",
    "                   dist = dist + (p1[i] - p2[i])**2\n",
    "    euclidean_dist = np.sqrt(dist)\n",
    "    print(euclidean_dist)               \n",
    "                   "
   ]
  },
  {
   "cell_type": "code",
   "execution_count": 16,
   "id": "b39f227d",
   "metadata": {},
   "outputs": [
    {
     "name": "stdout",
     "output_type": "stream",
     "text": [
      "1.7320508075688772\n"
     ]
    }
   ],
   "source": [
    "get_euclidean_distance((1,1,1), (2,2,2))"
   ]
  },
  {
   "cell_type": "markdown",
   "id": "2be7556e",
   "metadata": {},
   "source": [
    "### Manhattan Distance"
   ]
  },
  {
   "cell_type": "markdown",
   "id": "234c14b4",
   "metadata": {},
   "source": [
    "#### Creating a function for Manhattan Distance"
   ]
  },
  {
   "cell_type": "code",
   "execution_count": 34,
   "id": "f44748b8",
   "metadata": {},
   "outputs": [],
   "source": [
    "def get_manhattan_distance(p1,p2):\n",
    "    dist = 0\n",
    "    for i in range(len(p1)):\n",
    "        dist = dist + (p1[i] - p2[i])**2\n",
    "        manhattan_dist = dist\n",
    "    print(manhattan_dist)"
   ]
  },
  {
   "cell_type": "code",
   "execution_count": 35,
   "id": "1fefafc3",
   "metadata": {},
   "outputs": [
    {
     "name": "stdout",
     "output_type": "stream",
     "text": [
      "4\n"
     ]
    }
   ],
   "source": [
    "get_manhattan_distance((1,1,1,1),(2,2,2,2))"
   ]
  },
  {
   "cell_type": "code",
   "execution_count": 36,
   "id": "e47edcfd",
   "metadata": {},
   "outputs": [
    {
     "name": "stdout",
     "output_type": "stream",
     "text": [
      "1\n"
     ]
    }
   ],
   "source": [
    "#abs --> absolute value\n",
    "print(abs(1-2))"
   ]
  },
  {
   "cell_type": "markdown",
   "id": "0decec7b",
   "metadata": {},
   "source": [
    "### Calculating distance between two similar points"
   ]
  },
  {
   "cell_type": "code",
   "execution_count": 38,
   "id": "07130fce",
   "metadata": {},
   "outputs": [
    {
     "name": "stdout",
     "output_type": "stream",
     "text": [
      "50.640300157088326\n",
      "None\n",
      "2564.44\n",
      "None\n"
     ]
    }
   ],
   "source": [
    "#distance between two similar data points\n",
    "print(get_euclidean_distance((63,1,3,145,233,1,0,150,0,2.3,0,0,1),(37,1,2,130,250,0,1,187,0,3.5,0,0,2)))\n",
    "print(get_manhattan_distance((63,1,3,145,233,1,0,150,0,2.3,0,0,1),(37,1,2,130,250,0,1,187,0,3.5,0,0,2)))"
   ]
  },
  {
   "cell_type": "code",
   "execution_count": null,
   "id": "d3033998",
   "metadata": {},
   "outputs": [],
   "source": []
  }
 ],
 "metadata": {
  "kernelspec": {
   "display_name": "Python 3 (ipykernel)",
   "language": "python",
   "name": "python3"
  },
  "language_info": {
   "codemirror_mode": {
    "name": "ipython",
    "version": 3
   },
   "file_extension": ".py",
   "mimetype": "text/x-python",
   "name": "python",
   "nbconvert_exporter": "python",
   "pygments_lexer": "ipython3",
   "version": "3.10.2"
  }
 },
 "nbformat": 4,
 "nbformat_minor": 5
}
