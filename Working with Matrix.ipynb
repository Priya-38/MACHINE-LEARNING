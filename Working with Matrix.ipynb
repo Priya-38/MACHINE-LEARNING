{
 "cells": [
  {
   "cell_type": "code",
   "execution_count": 1,
   "id": "777f2a60",
   "metadata": {},
   "outputs": [],
   "source": [
    "import numpy as np"
   ]
  },
  {
   "cell_type": "markdown",
   "id": "bcdc3407",
   "metadata": {},
   "source": [
    "###### Creating a Matrix using Numpy"
   ]
  },
  {
   "cell_type": "code",
   "execution_count": 2,
   "id": "e49e602f",
   "metadata": {},
   "outputs": [
    {
     "name": "stdout",
     "output_type": "stream",
     "text": [
      "[[1 2 3]\n",
      " [4 5 6]]\n"
     ]
    }
   ],
   "source": [
    "matrix_1 = np.array(([1,2,3],[4,5,6]))\n",
    "print(matrix_1)"
   ]
  },
  {
   "cell_type": "code",
   "execution_count": 3,
   "id": "3bcf9687",
   "metadata": {},
   "outputs": [
    {
     "data": {
      "text/plain": [
       "(2, 3)"
      ]
     },
     "execution_count": 3,
     "metadata": {},
     "output_type": "execute_result"
    }
   ],
   "source": [
    "matrix_1.shape "
   ]
  },
  {
   "cell_type": "code",
   "execution_count": 4,
   "id": "9df1faee",
   "metadata": {},
   "outputs": [
    {
     "name": "stdout",
     "output_type": "stream",
     "text": [
      "[[1 2 3]\n",
      " [4 5 6]]\n"
     ]
    }
   ],
   "source": [
    "matrix_2 = np.array(([1,2,3],[4,5,6],[7,8,9]))\n",
    "print(matrix_1)"
   ]
  },
  {
   "cell_type": "code",
   "execution_count": 5,
   "id": "2c245eb9",
   "metadata": {},
   "outputs": [
    {
     "data": {
      "text/plain": [
       "(3, 3)"
      ]
     },
     "execution_count": 5,
     "metadata": {},
     "output_type": "execute_result"
    }
   ],
   "source": [
    "matrix_2.shape"
   ]
  },
  {
   "cell_type": "markdown",
   "id": "c965f913",
   "metadata": {},
   "source": [
    "###### Creating metrices with Random Values"
   ]
  },
  {
   "cell_type": "code",
   "execution_count": 6,
   "id": "f8323eaf",
   "metadata": {},
   "outputs": [
    {
     "name": "stdout",
     "output_type": "stream",
     "text": [
      "[[0.81941583 0.03873546 0.57062459]\n",
      " [0.90627032 0.72747659 0.43376276]\n",
      " [0.45330959 0.08228261 0.4218764 ]]\n"
     ]
    }
   ],
   "source": [
    "random_matrix = np.random.rand(3,3)\n",
    "print(random_matrix)"
   ]
  },
  {
   "cell_type": "code",
   "execution_count": 7,
   "id": "2e4bc9c7",
   "metadata": {},
   "outputs": [
    {
     "name": "stdout",
     "output_type": "stream",
     "text": [
      "[[82 42 24 36 35]\n",
      " [33 43 58  8 79]\n",
      " [44 83 15 65 32]\n",
      " [95 44 61 87 38]]\n"
     ]
    }
   ],
   "source": [
    "#creating matrix with random integers\n",
    "random_matrix_integers = np.random.randint(100, size= (4,5))\n",
    "print(random_matrix_integers)"
   ]
  },
  {
   "cell_type": "markdown",
   "id": "76be74b1",
   "metadata": {},
   "source": [
    "###### Matrix with all the values as 1"
   ]
  },
  {
   "cell_type": "code",
   "execution_count": 8,
   "id": "543ddc0b",
   "metadata": {},
   "outputs": [],
   "source": [
    "matrix_2 = np.ones((3,3))"
   ]
  },
  {
   "cell_type": "code",
   "execution_count": 9,
   "id": "fe1a220a",
   "metadata": {},
   "outputs": [
    {
     "name": "stdout",
     "output_type": "stream",
     "text": [
      "[[1. 1. 1.]\n",
      " [1. 1. 1.]\n",
      " [1. 1. 1.]]\n"
     ]
    }
   ],
   "source": [
    "print(matrix_2)"
   ]
  },
  {
   "cell_type": "code",
   "execution_count": 10,
   "id": "75b7b576",
   "metadata": {},
   "outputs": [],
   "source": [
    "matrix_3 = np.ones((10,10), dtype = int)"
   ]
  },
  {
   "cell_type": "code",
   "execution_count": 11,
   "id": "1e7d63a0",
   "metadata": {},
   "outputs": [
    {
     "name": "stdout",
     "output_type": "stream",
     "text": [
      "[[1 1 1 1 1 1 1 1 1 1]\n",
      " [1 1 1 1 1 1 1 1 1 1]\n",
      " [1 1 1 1 1 1 1 1 1 1]\n",
      " [1 1 1 1 1 1 1 1 1 1]\n",
      " [1 1 1 1 1 1 1 1 1 1]\n",
      " [1 1 1 1 1 1 1 1 1 1]\n",
      " [1 1 1 1 1 1 1 1 1 1]\n",
      " [1 1 1 1 1 1 1 1 1 1]\n",
      " [1 1 1 1 1 1 1 1 1 1]\n",
      " [1 1 1 1 1 1 1 1 1 1]]\n"
     ]
    }
   ],
   "source": [
    "print(matrix_3)"
   ]
  },
  {
   "cell_type": "code",
   "execution_count": 12,
   "id": "ceef4608",
   "metadata": {},
   "outputs": [
    {
     "name": "stdout",
     "output_type": "stream",
     "text": [
      "[[0. 0. 0. 0. 0. 0. 0.]\n",
      " [0. 0. 0. 0. 0. 0. 0.]\n",
      " [0. 0. 0. 0. 0. 0. 0.]\n",
      " [0. 0. 0. 0. 0. 0. 0.]\n",
      " [0. 0. 0. 0. 0. 0. 0.]\n",
      " [0. 0. 0. 0. 0. 0. 0.]\n",
      " [0. 0. 0. 0. 0. 0. 0.]]\n"
     ]
    }
   ],
   "source": [
    "matrix_4 = np.zeros((7,7))\n",
    "print(matrix_4)"
   ]
  },
  {
   "cell_type": "markdown",
   "id": "32edf9c0",
   "metadata": {},
   "source": [
    "###### Identity Matrix "
   ]
  },
  {
   "cell_type": "code",
   "execution_count": 13,
   "id": "34ac24b1",
   "metadata": {},
   "outputs": [
    {
     "name": "stdout",
     "output_type": "stream",
     "text": [
      "[[1. 0. 0. 0. 0.]\n",
      " [0. 1. 0. 0. 0.]\n",
      " [0. 0. 1. 0. 0.]\n",
      " [0. 0. 0. 1. 0.]\n",
      " [0. 0. 0. 0. 1.]]\n"
     ]
    }
   ],
   "source": [
    "identity_matrix = np.eye(5,5)\n",
    "print(identity_matrix)"
   ]
  },
  {
   "cell_type": "markdown",
   "id": "311819cc",
   "metadata": {},
   "source": [
    "###### Transpose of a matrix"
   ]
  },
  {
   "cell_type": "code",
   "execution_count": 14,
   "id": "46fea51c",
   "metadata": {},
   "outputs": [
    {
     "name": "stdout",
     "output_type": "stream",
     "text": [
      "[[3 3 4 3 3]\n",
      " [3 4 3 4 4]\n",
      " [4 3 3 3 4]\n",
      " [3 4 3 3 4]]\n"
     ]
    }
   ],
   "source": [
    "#matrix with random integer values\n",
    "a = np.random.randint(3,5,(4,5))\n",
    "print(a)"
   ]
  },
  {
   "cell_type": "code",
   "execution_count": 15,
   "id": "a1aff950",
   "metadata": {},
   "outputs": [
    {
     "name": "stdout",
     "output_type": "stream",
     "text": [
      "[[3 3 4 3]\n",
      " [3 4 3 4]\n",
      " [4 3 3 3]\n",
      " [3 4 3 3]\n",
      " [3 4 4 4]]\n"
     ]
    }
   ],
   "source": [
    "transpose_of_a = np.transpose(a)\n",
    "print(transpose_of_a)"
   ]
  },
  {
   "cell_type": "markdown",
   "id": "bed61402",
   "metadata": {},
   "source": [
    "###### Matrix Addition"
   ]
  },
  {
   "cell_type": "markdown",
   "id": "bbfe18d6",
   "metadata": {},
   "source": [
    "###### Two Matrices can be added  only if they have the same shape"
   ]
  },
  {
   "cell_type": "code",
   "execution_count": 17,
   "id": "7fe3f984",
   "metadata": {},
   "outputs": [],
   "source": [
    "#creating two matrices\n",
    "A = np.array([[2,3],[4,5]])\n",
    "B = np.array([[6,7],[8,9]])"
   ]
  },
  {
   "cell_type": "code",
   "execution_count": 18,
   "id": "7fb9acfc",
   "metadata": {},
   "outputs": [
    {
     "name": "stdout",
     "output_type": "stream",
     "text": [
      "[[2 3]\n",
      " [4 5]]\n"
     ]
    }
   ],
   "source": [
    "print(A)"
   ]
  },
  {
   "cell_type": "code",
   "execution_count": 19,
   "id": "ba3e5fc3",
   "metadata": {},
   "outputs": [
    {
     "name": "stdout",
     "output_type": "stream",
     "text": [
      "[[6 7]\n",
      " [8 9]]\n"
     ]
    }
   ],
   "source": [
    "print(B)"
   ]
  },
  {
   "cell_type": "code",
   "execution_count": 20,
   "id": "32a1272a",
   "metadata": {},
   "outputs": [
    {
     "data": {
      "text/plain": [
       "(2, 2)"
      ]
     },
     "execution_count": 20,
     "metadata": {},
     "output_type": "execute_result"
    }
   ],
   "source": [
    "A.shape"
   ]
  },
  {
   "cell_type": "code",
   "execution_count": 21,
   "id": "f72c063d",
   "metadata": {},
   "outputs": [
    {
     "data": {
      "text/plain": [
       "(2, 2)"
      ]
     },
     "execution_count": 21,
     "metadata": {},
     "output_type": "execute_result"
    }
   ],
   "source": [
    "B.shape"
   ]
  },
  {
   "cell_type": "code",
   "execution_count": 23,
   "id": "1ab954b1",
   "metadata": {},
   "outputs": [],
   "source": [
    "#Adding two matrices\n",
    "sum = A+B"
   ]
  },
  {
   "cell_type": "code",
   "execution_count": 24,
   "id": "3d76f779",
   "metadata": {},
   "outputs": [
    {
     "name": "stdout",
     "output_type": "stream",
     "text": [
      "[[ 8 10]\n",
      " [12 14]]\n"
     ]
    }
   ],
   "source": [
    "print(sum)"
   ]
  },
  {
   "cell_type": "code",
   "execution_count": 31,
   "id": "396a829a",
   "metadata": {},
   "outputs": [],
   "source": [
    "#creating two matrices with random values\n",
    "matrix_1 = np.random.randint(10, size = (3,3))\n",
    "matrix_2 = np.random.randint(20, size = (3,3))"
   ]
  },
  {
   "cell_type": "code",
   "execution_count": 33,
   "id": "62fa87af",
   "metadata": {},
   "outputs": [
    {
     "name": "stdout",
     "output_type": "stream",
     "text": [
      "[[6 1 6]\n",
      " [0 5 5]\n",
      " [3 3 7]]\n"
     ]
    }
   ],
   "source": [
    "print(matrix_1)"
   ]
  },
  {
   "cell_type": "code",
   "execution_count": 34,
   "id": "8edd4e98",
   "metadata": {},
   "outputs": [
    {
     "name": "stdout",
     "output_type": "stream",
     "text": [
      "[[ 9 14 17]\n",
      " [14  5 13]\n",
      " [ 3 13 15]]\n"
     ]
    }
   ],
   "source": [
    "print(matrix_2)"
   ]
  },
  {
   "cell_type": "code",
   "execution_count": 35,
   "id": "26eab8fb",
   "metadata": {},
   "outputs": [],
   "source": [
    "sum = np.add(matrix_1, matrix_2)"
   ]
  },
  {
   "cell_type": "code",
   "execution_count": 36,
   "id": "23ce5e0d",
   "metadata": {},
   "outputs": [
    {
     "name": "stdout",
     "output_type": "stream",
     "text": [
      "[[15 15 23]\n",
      " [14 10 18]\n",
      " [ 6 16 22]]\n"
     ]
    }
   ],
   "source": [
    "print(sum)"
   ]
  },
  {
   "cell_type": "code",
   "execution_count": 37,
   "id": "67748952",
   "metadata": {},
   "outputs": [],
   "source": [
    "#creating two matrices with random values\n",
    "# create two matrices with random values\n",
    "matrix_3 = np.random.randint(10, size=(3,3))\n",
    "matrix_4 = np.random.randint(20, size=(3,4))"
   ]
  },
  {
   "cell_type": "code",
   "execution_count": 38,
   "id": "c5cb7311",
   "metadata": {},
   "outputs": [
    {
     "ename": "ValueError",
     "evalue": "operands could not be broadcast together with shapes (3,3) (3,4) ",
     "output_type": "error",
     "traceback": [
      "\u001b[1;31m---------------------------------------------------------------------------\u001b[0m",
      "\u001b[1;31mValueError\u001b[0m                                Traceback (most recent call last)",
      "Input \u001b[1;32mIn [38]\u001b[0m, in \u001b[0;36m<module>\u001b[1;34m\u001b[0m\n\u001b[1;32m----> 1\u001b[0m sum_2 \u001b[38;5;241m=\u001b[39m \u001b[43mnp\u001b[49m\u001b[38;5;241;43m.\u001b[39;49m\u001b[43madd\u001b[49m\u001b[43m(\u001b[49m\u001b[43mmatrix_3\u001b[49m\u001b[43m,\u001b[49m\u001b[43m \u001b[49m\u001b[43mmatrix_4\u001b[49m\u001b[43m)\u001b[49m\n",
      "\u001b[1;31mValueError\u001b[0m: operands could not be broadcast together with shapes (3,3) (3,4) "
     ]
    }
   ],
   "source": [
    "sum_2 = np.add(matrix_3, matrix_4)"
   ]
  },
  {
   "cell_type": "markdown",
   "id": "908af1d1",
   "metadata": {},
   "source": [
    "We get this error because shape of matrix_3 and matrix_4 are different###### "
   ]
  },
  {
   "cell_type": "markdown",
   "id": "1f967c42",
   "metadata": {},
   "source": [
    "###### Matrix Subtraction"
   ]
  },
  {
   "cell_type": "code",
   "execution_count": 39,
   "id": "4387d32d",
   "metadata": {},
   "outputs": [],
   "source": [
    "# creating two matrices\n",
    "\n",
    "A = np.array([[2,3],[4,5]])\n",
    "\n",
    "B = np.array([[6,7],[8,9]])"
   ]
  },
  {
   "cell_type": "code",
   "execution_count": 40,
   "id": "344b5ca4",
   "metadata": {},
   "outputs": [
    {
     "name": "stdout",
     "output_type": "stream",
     "text": [
      "[[2 3]\n",
      " [4 5]]\n"
     ]
    }
   ],
   "source": [
    "print(A)"
   ]
  },
  {
   "cell_type": "code",
   "execution_count": 41,
   "id": "f4e8c276",
   "metadata": {},
   "outputs": [
    {
     "name": "stdout",
     "output_type": "stream",
     "text": [
      "[[6 7]\n",
      " [8 9]]\n"
     ]
    }
   ],
   "source": [
    "print(B)"
   ]
  },
  {
   "cell_type": "code",
   "execution_count": 43,
   "id": "8d70870a",
   "metadata": {},
   "outputs": [],
   "source": [
    "difference = A - B"
   ]
  },
  {
   "cell_type": "code",
   "execution_count": 44,
   "id": "7a066d69",
   "metadata": {},
   "outputs": [
    {
     "name": "stdout",
     "output_type": "stream",
     "text": [
      "[[-4 -4]\n",
      " [-4 -4]]\n"
     ]
    }
   ],
   "source": [
    "print(difference)"
   ]
  },
  {
   "cell_type": "code",
   "execution_count": 45,
   "id": "e7dd3b7b",
   "metadata": {},
   "outputs": [],
   "source": [
    "# create two matrices with random values\n",
    "matrix_1 = np.random.randint(10, size=(3,3))\n",
    "matrix_2 = np.random.randint(20, size=(3,3))"
   ]
  },
  {
   "cell_type": "code",
   "execution_count": 46,
   "id": "b8610cf3",
   "metadata": {},
   "outputs": [
    {
     "name": "stdout",
     "output_type": "stream",
     "text": [
      "[[0 0 3]\n",
      " [2 2 5]\n",
      " [1 4 3]]\n"
     ]
    }
   ],
   "source": [
    "print(matrix_1)"
   ]
  },
  {
   "cell_type": "code",
   "execution_count": 47,
   "id": "56acae6a",
   "metadata": {},
   "outputs": [
    {
     "name": "stdout",
     "output_type": "stream",
     "text": [
      "[[17  7 16]\n",
      " [ 4  6  4]\n",
      " [ 4  5  9]]\n"
     ]
    }
   ],
   "source": [
    "print(matrix_2)"
   ]
  },
  {
   "cell_type": "code",
   "execution_count": 48,
   "id": "85a5f76f",
   "metadata": {},
   "outputs": [],
   "source": [
    "diff = np.subtract(matrix_1, matrix_2)"
   ]
  },
  {
   "cell_type": "code",
   "execution_count": 49,
   "id": "fa60721f",
   "metadata": {},
   "outputs": [
    {
     "name": "stdout",
     "output_type": "stream",
     "text": [
      "[[-17  -7 -13]\n",
      " [ -2  -4   1]\n",
      " [ -3  -1  -6]]\n"
     ]
    }
   ],
   "source": [
    "print(diff)"
   ]
  },
  {
   "cell_type": "markdown",
   "id": "66037419",
   "metadata": {},
   "source": [
    "###### Multiplying a matrix by a scalar"
   ]
  },
  {
   "cell_type": "code",
   "execution_count": 50,
   "id": "315e455e",
   "metadata": {},
   "outputs": [
    {
     "name": "stdout",
     "output_type": "stream",
     "text": [
      "[[1 1 2 7]\n",
      " [1 3 5 9]\n",
      " [3 6 6 7]\n",
      " [8 2 0 9]]\n"
     ]
    }
   ],
   "source": [
    "x = 5\n",
    "y = np.random.randint(10, size=(4,4))\n",
    "\n",
    "print(y)"
   ]
  },
  {
   "cell_type": "code",
   "execution_count": 51,
   "id": "4160353c",
   "metadata": {},
   "outputs": [],
   "source": [
    "product = np.multiply(x,y)"
   ]
  },
  {
   "cell_type": "code",
   "execution_count": 52,
   "id": "53eace8d",
   "metadata": {},
   "outputs": [
    {
     "name": "stdout",
     "output_type": "stream",
     "text": [
      "[[ 5  5 10 35]\n",
      " [ 5 15 25 45]\n",
      " [15 30 30 35]\n",
      " [40 10  0 45]]\n"
     ]
    }
   ],
   "source": [
    "print(product)"
   ]
  },
  {
   "cell_type": "markdown",
   "id": "0d66e65b",
   "metadata": {},
   "source": [
    "###### Multiplying 2 Matrices"
   ]
  },
  {
   "cell_type": "code",
   "execution_count": 53,
   "id": "3ff74f48",
   "metadata": {},
   "outputs": [],
   "source": [
    "# create two matrices with random values\n",
    "matrix_3 = np.random.randint(5, size=(3,3))\n",
    "matrix_4 = np.random.randint(5, size=(3,4))"
   ]
  },
  {
   "cell_type": "code",
   "execution_count": 54,
   "id": "a004afe5",
   "metadata": {},
   "outputs": [
    {
     "name": "stdout",
     "output_type": "stream",
     "text": [
      "[[0 4 2]\n",
      " [2 4 1]\n",
      " [2 3 3]]\n"
     ]
    }
   ],
   "source": [
    "print(matrix_3)"
   ]
  },
  {
   "cell_type": "code",
   "execution_count": 55,
   "id": "ffd700bb",
   "metadata": {},
   "outputs": [
    {
     "name": "stdout",
     "output_type": "stream",
     "text": [
      "[[0 3 2 0]\n",
      " [4 3 1 0]\n",
      " [0 4 1 3]]\n"
     ]
    }
   ],
   "source": [
    "print(matrix_4)"
   ]
  },
  {
   "cell_type": "code",
   "execution_count": 56,
   "id": "82142fef",
   "metadata": {},
   "outputs": [],
   "source": [
    "product = np.dot(matrix_3, matrix_4)"
   ]
  },
  {
   "cell_type": "code",
   "execution_count": 57,
   "id": "a0b394fd",
   "metadata": {},
   "outputs": [
    {
     "name": "stdout",
     "output_type": "stream",
     "text": [
      "[[16 20  6  6]\n",
      " [16 22  9  3]\n",
      " [12 27 10  9]]\n"
     ]
    }
   ],
   "source": [
    "print(product)"
   ]
  },
  {
   "cell_type": "code",
   "execution_count": 58,
   "id": "71fbf1eb",
   "metadata": {},
   "outputs": [
    {
     "data": {
      "text/plain": [
       "(3, 4)"
      ]
     },
     "execution_count": 58,
     "metadata": {},
     "output_type": "execute_result"
    }
   ],
   "source": [
    "product.shape"
   ]
  },
  {
   "cell_type": "code",
   "execution_count": 59,
   "id": "9c16cc26",
   "metadata": {},
   "outputs": [],
   "source": [
    "# create two matrices with random values\n",
    "matrix_3 = np.random.randint(5, size=(3,3))\n",
    "matrix_4 = np.random.randint(5, size=(4,4))"
   ]
  },
  {
   "cell_type": "code",
   "execution_count": 60,
   "id": "ff81dcb9",
   "metadata": {},
   "outputs": [
    {
     "ename": "ValueError",
     "evalue": "shapes (3,3) and (4,4) not aligned: 3 (dim 1) != 4 (dim 0)",
     "output_type": "error",
     "traceback": [
      "\u001b[1;31m---------------------------------------------------------------------------\u001b[0m",
      "\u001b[1;31mValueError\u001b[0m                                Traceback (most recent call last)",
      "Input \u001b[1;32mIn [60]\u001b[0m, in \u001b[0;36m<module>\u001b[1;34m\u001b[0m\n\u001b[1;32m----> 1\u001b[0m product \u001b[38;5;241m=\u001b[39m \u001b[43mnp\u001b[49m\u001b[38;5;241;43m.\u001b[39;49m\u001b[43mdot\u001b[49m\u001b[43m(\u001b[49m\u001b[43mmatrix_3\u001b[49m\u001b[43m,\u001b[49m\u001b[43m \u001b[49m\u001b[43mmatrix_4\u001b[49m\u001b[43m)\u001b[49m\n",
      "File \u001b[1;32m<__array_function__ internals>:180\u001b[0m, in \u001b[0;36mdot\u001b[1;34m(*args, **kwargs)\u001b[0m\n",
      "\u001b[1;31mValueError\u001b[0m: shapes (3,3) and (4,4) not aligned: 3 (dim 1) != 4 (dim 0)"
     ]
    }
   ],
   "source": [
    "product = np.dot(matrix_3, matrix_4)"
   ]
  },
  {
   "cell_type": "markdown",
   "id": "0b1b8783",
   "metadata": {},
   "source": [
    "###### Element wise Matrix Multiplication"
   ]
  },
  {
   "cell_type": "code",
   "execution_count": 61,
   "id": "84768ee1",
   "metadata": {},
   "outputs": [],
   "source": [
    "# create two matrices with random values\n",
    "matrix_3 = np.random.randint(5, size=(3,3))\n",
    "matrix_4 = np.random.randint(5, size=(3,3))"
   ]
  },
  {
   "cell_type": "code",
   "execution_count": 62,
   "id": "a4aa9fcb",
   "metadata": {},
   "outputs": [
    {
     "name": "stdout",
     "output_type": "stream",
     "text": [
      "[[2 4 2]\n",
      " [2 4 3]\n",
      " [4 2 0]]\n"
     ]
    }
   ],
   "source": [
    "print(matrix_3)"
   ]
  },
  {
   "cell_type": "code",
   "execution_count": 63,
   "id": "5cdfe6a2",
   "metadata": {},
   "outputs": [
    {
     "name": "stdout",
     "output_type": "stream",
     "text": [
      "[[1 3 0]\n",
      " [4 4 2]\n",
      " [3 4 1]]\n"
     ]
    }
   ],
   "source": [
    "print(matrix_4)"
   ]
  },
  {
   "cell_type": "code",
   "execution_count": 64,
   "id": "1736d29d",
   "metadata": {},
   "outputs": [],
   "source": [
    "product = np.multiply(matrix_3, matrix_4)"
   ]
  },
  {
   "cell_type": "code",
   "execution_count": 65,
   "id": "a4c594c4",
   "metadata": {},
   "outputs": [
    {
     "name": "stdout",
     "output_type": "stream",
     "text": [
      "[[ 2 12  0]\n",
      " [ 8 16  6]\n",
      " [12  8  0]]\n"
     ]
    }
   ],
   "source": [
    "print(product)"
   ]
  },
  {
   "cell_type": "code",
   "execution_count": 66,
   "id": "a4090957",
   "metadata": {},
   "outputs": [],
   "source": [
    "# create two matrices with random values\n",
    "matrix_3 = np.random.randint(5, size=(3,3))\n",
    "matrix_4 = np.random.randint(5, size=(3,4))"
   ]
  },
  {
   "cell_type": "code",
   "execution_count": 67,
   "id": "c52bb6e0",
   "metadata": {},
   "outputs": [
    {
     "ename": "ValueError",
     "evalue": "operands could not be broadcast together with shapes (3,3) (3,4) ",
     "output_type": "error",
     "traceback": [
      "\u001b[1;31m---------------------------------------------------------------------------\u001b[0m",
      "\u001b[1;31mValueError\u001b[0m                                Traceback (most recent call last)",
      "Input \u001b[1;32mIn [67]\u001b[0m, in \u001b[0;36m<module>\u001b[1;34m\u001b[0m\n\u001b[1;32m----> 1\u001b[0m product \u001b[38;5;241m=\u001b[39m \u001b[43mnp\u001b[49m\u001b[38;5;241;43m.\u001b[39;49m\u001b[43mmultiply\u001b[49m\u001b[43m(\u001b[49m\u001b[43mmatrix_3\u001b[49m\u001b[43m,\u001b[49m\u001b[43m \u001b[49m\u001b[43mmatrix_4\u001b[49m\u001b[43m)\u001b[49m\n",
      "\u001b[1;31mValueError\u001b[0m: operands could not be broadcast together with shapes (3,3) (3,4) "
     ]
    }
   ],
   "source": [
    "product = np.multiply(matrix_3, matrix_4)"
   ]
  }
 ],
 "metadata": {
  "kernelspec": {
   "display_name": "Python 3 (ipykernel)",
   "language": "python",
   "name": "python3"
  },
  "language_info": {
   "codemirror_mode": {
    "name": "ipython",
    "version": 3
   },
   "file_extension": ".py",
   "mimetype": "text/x-python",
   "name": "python",
   "nbconvert_exporter": "python",
   "pygments_lexer": "ipython3",
   "version": "3.10.2"
  }
 },
 "nbformat": 4,
 "nbformat_minor": 5
}
