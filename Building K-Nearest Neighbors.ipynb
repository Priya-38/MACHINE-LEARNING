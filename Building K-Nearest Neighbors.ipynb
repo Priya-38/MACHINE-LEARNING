{
 "cells": [
  {
   "cell_type": "markdown",
   "id": "b266eb34",
   "metadata": {},
   "source": [
    "#### Importing the Dependencies:"
   ]
  },
  {
   "cell_type": "code",
   "execution_count": 1,
   "id": "88bd7a81",
   "metadata": {},
   "outputs": [],
   "source": [
    "import numpy as np\n",
    "import statistics"
   ]
  },
  {
   "cell_type": "code",
   "execution_count": 9,
   "id": "b3fa61a0",
   "metadata": {},
   "outputs": [],
   "source": [
    "class KNN_Classifier():\n",
    "\n",
    "  # initiating the parameters\n",
    "  def __init__(self, distance_metric):\n",
    "\n",
    "    self.distance_metric = distance_metric\n",
    "\n",
    "  # getting the distance metric\n",
    "  def get_distance_metric(self,training_data_point, test_data_point):\n",
    "\n",
    "    if (self.distance_metric == 'euclidean'):\n",
    "        dist = 0\n",
    "        for i in range(len(training_data_point) - 1):\n",
    "            dist = dist + (training_data_point[i] - test_data_point[i])**2\n",
    "            euclidean_dist = np.sqrt(dist)\n",
    "            return euclidean_dist\n",
    "        \n",
    "    elif (self.distance_metric == 'manhattan'):\n",
    "        dist = 0\n",
    "        for i in range(len(training_data_point) - 1):\n",
    "            dist = dist + abs(training_data_point[i] - test_data_point[i])\n",
    "            manhattan_dist = dist\n",
    "            return manhattan_dist\n",
    "\n",
    "  # getting the nearest neighbors\n",
    "  def nearest_neighbors(self,X_train, test_data, k):\n",
    "\n",
    "    distance_list = []\n",
    "\n",
    "    for training_data in X_train:\n",
    "        distance = self.get_distance_metric(training_data, test_data)\n",
    "        distance_list.append((training_data, distance))\n",
    "        \n",
    "\n",
    "    distance_list.sort(key=lambda x: x[1])\n",
    "\n",
    "    neighbors_list = []\n",
    "\n",
    "    for j in range(k):\n",
    "        neighbors_list.append(distance_list[j][0])\n",
    "        return neighbors_list\n",
    "\n",
    "\n",
    "  # predict the class of the new data point:\n",
    "  def predict(self,X_train, test_data, k):\n",
    "    neighbors = self.nearest_neighbors(X_train, test_data, k)\n",
    "    \n",
    "    for data in neighbors:\n",
    "        \n",
    "        label = []\n",
    "        label.append(data[-1])\n",
    "\n",
    "    predicted_class = statistics.mode(label)\n",
    "\n",
    "    return predicted_class"
   ]
  },
  {
   "cell_type": "code",
   "execution_count": null,
   "id": "0e7d1bba",
   "metadata": {},
   "outputs": [],
   "source": []
  }
 ],
 "metadata": {
  "kernelspec": {
   "display_name": "Python 3 (ipykernel)",
   "language": "python",
   "name": "python3"
  },
  "language_info": {
   "codemirror_mode": {
    "name": "ipython",
    "version": 3
   },
   "file_extension": ".py",
   "mimetype": "text/x-python",
   "name": "python",
   "nbconvert_exporter": "python",
   "pygments_lexer": "ipython3",
   "version": "3.10.2"
  }
 },
 "nbformat": 4,
 "nbformat_minor": 5
}
