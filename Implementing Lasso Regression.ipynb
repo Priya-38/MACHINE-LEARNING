{
 "cells": [
  {
   "cell_type": "markdown",
   "id": "a82305fc",
   "metadata": {},
   "source": [
    "# Lasso Regression:\n",
    "\n",
    "Y = wX + b\n",
    "\n",
    "Y --> Dependent Variable\n",
    "\n",
    "X --> Independent Variable\n",
    "\n",
    "w --> weight\n",
    "\n",
    "b --> bias"
   ]
  },
  {
   "cell_type": "markdown",
   "id": "e59c9f9a",
   "metadata": {},
   "source": [
    "### Gradient Descent:\n",
    "\n",
    "Gradient Descent is an optimization algorithm used for minimizing the loss function in various machine learning algorithms. It is used for updating the parameters of the learning model.\n",
    "\n",
    "w = w - α*dw\n",
    "\n",
    "b = b - α*db"
   ]
  },
  {
   "cell_type": "markdown",
   "id": "bc27f3c9",
   "metadata": {},
   "source": [
    "# Learning Rate:\n",
    "\n",
    "Learning rate is a tuning parameter in an optimization algorithm that determines the step size at each iteration while moving toward a minimum of a loss function."
   ]
  },
  {
   "cell_type": "markdown",
   "id": "1968c96c",
   "metadata": {},
   "source": [
    "Importing the dependencies:"
   ]
  },
  {
   "cell_type": "code",
   "execution_count": 1,
   "id": "b200ad5b",
   "metadata": {},
   "outputs": [],
   "source": [
    "import numpy as np"
   ]
  },
  {
   "cell_type": "markdown",
   "id": "661bdc1d",
   "metadata": {},
   "source": [
    "#### Lasso Regression"
   ]
  },
  {
   "cell_type": "code",
   "execution_count": 2,
   "id": "9a5450b4",
   "metadata": {},
   "outputs": [],
   "source": [
    "# creating a class for Lasso Regression\n",
    "\n",
    "class Lasso_Regression():\n",
    "\n",
    "  #initiating the hyperparameters\n",
    "  def __init__(self, learning_rate, no_of_iterations, lambda_parameter):\n",
    "\n",
    "    self.learning_rate = learning_rate\n",
    "    self.no_of_iterations = no_of_iterations\n",
    "    self.lambda_parameter = lambda_parameter\n",
    "\n",
    "\n",
    "  # fitting the dataset to the Lasso Regression model\n",
    "  def fit(self, X, Y):\n",
    "\n",
    "    # m --> number of Data points --> number of rows\n",
    "    # n --> number of input features --> number of columns\n",
    "    self.m, self.n = X.shape\n",
    "\n",
    "    self.w = np.zeros(self.n)\n",
    "\n",
    "    self.b = 0\n",
    "\n",
    "    self.X = X\n",
    "\n",
    "    self.Y = Y\n",
    "\n",
    "    # implementing Gradient Descent algorithm for Optimization\n",
    "\n",
    "    for i in range(self.no_of_iterations):# missed \"self\"\n",
    "          self.upadte_weights()\n",
    "\n",
    "\n",
    "  # function for updating the weight & bias value\n",
    "  def upadte_weights(self):\n",
    "\n",
    "    # linear equation of the model\n",
    "    Y_prediction = self.predict(self.X)\n",
    "\n",
    "    # gradients (dw, db)\n",
    "\n",
    "    # gradient for weight\n",
    "    dw = np.zeros(self.n)\n",
    "\n",
    "    for i in range(self.n):\n",
    "        if self.w[i]>0:\n",
    "            dw[i] = (-(2*(self.X[:,i]).dot(self.Y - Y_prediction)) + self.lambda_parameter) / self.m \n",
    "        else:\n",
    "            dw[i] = (-(2*(self.X[:,i]).dot(self.Y - Y_prediction)) - self.lambda_parameter) / self.m\n",
    "\n",
    "\n",
    "    # gradient for bias\n",
    "    db = - 2 * np.sum(self.Y - Y_prediction) / self.m\n",
    "\n",
    "\n",
    "    # updating the weights & bias\n",
    "\n",
    "    self.w = self.w - self.learning_rate*dw\n",
    "    self.b = self.b - self.learning_rate*db\n",
    "\n",
    "    \n",
    "\n",
    "\n",
    "  # Predicting the Target variable\n",
    "  def predict(self,X):\n",
    "\n",
    "    return X.dot(self.w) + self.b"
   ]
  },
  {
   "cell_type": "markdown",
   "id": "c53834a0",
   "metadata": {},
   "source": [
    "### Using Linear Regression model for Prediction"
   ]
  },
  {
   "cell_type": "code",
   "execution_count": 3,
   "id": "b263c312",
   "metadata": {},
   "outputs": [],
   "source": [
    "# importing the dependencies\n",
    "import numpy as np\n",
    "import pandas as pd\n",
    "from sklearn.model_selection import train_test_split\n",
    "import matplotlib.pyplot as plt\n",
    "from sklearn import metrics"
   ]
  },
  {
   "cell_type": "markdown",
   "id": "e1611e0b",
   "metadata": {},
   "source": [
    "#### Data Preprocessing "
   ]
  },
  {
   "cell_type": "code",
   "execution_count": 4,
   "id": "776b2d0d",
   "metadata": {},
   "outputs": [],
   "source": [
    "#loading the data from csv file to a pandas dataframe\n",
    "salary_data = pd.read_csv('salary_data.csv')"
   ]
  },
  {
   "cell_type": "code",
   "execution_count": 5,
   "id": "daf3e9f7",
   "metadata": {},
   "outputs": [
    {
     "data": {
      "text/html": [
       "<div>\n",
       "<style scoped>\n",
       "    .dataframe tbody tr th:only-of-type {\n",
       "        vertical-align: middle;\n",
       "    }\n",
       "\n",
       "    .dataframe tbody tr th {\n",
       "        vertical-align: top;\n",
       "    }\n",
       "\n",
       "    .dataframe thead th {\n",
       "        text-align: right;\n",
       "    }\n",
       "</style>\n",
       "<table border=\"1\" class=\"dataframe\">\n",
       "  <thead>\n",
       "    <tr style=\"text-align: right;\">\n",
       "      <th></th>\n",
       "      <th>YearsExperience</th>\n",
       "      <th>Salary</th>\n",
       "    </tr>\n",
       "  </thead>\n",
       "  <tbody>\n",
       "    <tr>\n",
       "      <th>0</th>\n",
       "      <td>1.1</td>\n",
       "      <td>39343</td>\n",
       "    </tr>\n",
       "    <tr>\n",
       "      <th>1</th>\n",
       "      <td>1.3</td>\n",
       "      <td>46205</td>\n",
       "    </tr>\n",
       "    <tr>\n",
       "      <th>2</th>\n",
       "      <td>1.5</td>\n",
       "      <td>37731</td>\n",
       "    </tr>\n",
       "    <tr>\n",
       "      <th>3</th>\n",
       "      <td>2.0</td>\n",
       "      <td>43525</td>\n",
       "    </tr>\n",
       "    <tr>\n",
       "      <th>4</th>\n",
       "      <td>2.2</td>\n",
       "      <td>39891</td>\n",
       "    </tr>\n",
       "  </tbody>\n",
       "</table>\n",
       "</div>"
      ],
      "text/plain": [
       "   YearsExperience  Salary\n",
       "0              1.1   39343\n",
       "1              1.3   46205\n",
       "2              1.5   37731\n",
       "3              2.0   43525\n",
       "4              2.2   39891"
      ]
     },
     "execution_count": 5,
     "metadata": {},
     "output_type": "execute_result"
    }
   ],
   "source": [
    "#printing the first 5 columns of the dataframe\n",
    "salary_data.head()"
   ]
  },
  {
   "cell_type": "code",
   "execution_count": 6,
   "id": "ea49a780",
   "metadata": {},
   "outputs": [
    {
     "data": {
      "text/html": [
       "<div>\n",
       "<style scoped>\n",
       "    .dataframe tbody tr th:only-of-type {\n",
       "        vertical-align: middle;\n",
       "    }\n",
       "\n",
       "    .dataframe tbody tr th {\n",
       "        vertical-align: top;\n",
       "    }\n",
       "\n",
       "    .dataframe thead th {\n",
       "        text-align: right;\n",
       "    }\n",
       "</style>\n",
       "<table border=\"1\" class=\"dataframe\">\n",
       "  <thead>\n",
       "    <tr style=\"text-align: right;\">\n",
       "      <th></th>\n",
       "      <th>YearsExperience</th>\n",
       "      <th>Salary</th>\n",
       "    </tr>\n",
       "  </thead>\n",
       "  <tbody>\n",
       "    <tr>\n",
       "      <th>25</th>\n",
       "      <td>9.0</td>\n",
       "      <td>105582</td>\n",
       "    </tr>\n",
       "    <tr>\n",
       "      <th>26</th>\n",
       "      <td>9.5</td>\n",
       "      <td>116969</td>\n",
       "    </tr>\n",
       "    <tr>\n",
       "      <th>27</th>\n",
       "      <td>9.6</td>\n",
       "      <td>112635</td>\n",
       "    </tr>\n",
       "    <tr>\n",
       "      <th>28</th>\n",
       "      <td>10.3</td>\n",
       "      <td>122391</td>\n",
       "    </tr>\n",
       "    <tr>\n",
       "      <th>29</th>\n",
       "      <td>10.5</td>\n",
       "      <td>121872</td>\n",
       "    </tr>\n",
       "  </tbody>\n",
       "</table>\n",
       "</div>"
      ],
      "text/plain": [
       "    YearsExperience  Salary\n",
       "25              9.0  105582\n",
       "26              9.5  116969\n",
       "27              9.6  112635\n",
       "28             10.3  122391\n",
       "29             10.5  121872"
      ]
     },
     "execution_count": 6,
     "metadata": {},
     "output_type": "execute_result"
    }
   ],
   "source": [
    "#last 5 rows of the dataframe\n",
    "salary_data.tail()"
   ]
  },
  {
   "cell_type": "code",
   "execution_count": 7,
   "id": "a529689b",
   "metadata": {},
   "outputs": [
    {
     "data": {
      "text/plain": [
       "(30, 2)"
      ]
     },
     "execution_count": 7,
     "metadata": {},
     "output_type": "execute_result"
    }
   ],
   "source": [
    "#number of rows & columns in the dataframe\n",
    "salary_data.shape"
   ]
  },
  {
   "cell_type": "code",
   "execution_count": 8,
   "id": "799b5fdb",
   "metadata": {},
   "outputs": [
    {
     "data": {
      "text/plain": [
       "YearsExperience    0\n",
       "Salary             0\n",
       "dtype: int64"
      ]
     },
     "execution_count": 8,
     "metadata": {},
     "output_type": "execute_result"
    }
   ],
   "source": [
    "#checking for missing values\n",
    "salary_data.isnull().sum()"
   ]
  },
  {
   "cell_type": "markdown",
   "id": "e168a724",
   "metadata": {},
   "source": [
    "#### Splitting the feature & target"
   ]
  },
  {
   "cell_type": "code",
   "execution_count": 9,
   "id": "f677a2b1",
   "metadata": {},
   "outputs": [],
   "source": [
    "features = salary_data.iloc[:,:-1].values      \n",
    "target = salary_data.iloc[:,1].values"
   ]
  },
  {
   "cell_type": "code",
   "execution_count": 10,
   "id": "ee8a097f",
   "metadata": {},
   "outputs": [
    {
     "name": "stdout",
     "output_type": "stream",
     "text": [
      "[[ 1.1]\n",
      " [ 1.3]\n",
      " [ 1.5]\n",
      " [ 2. ]\n",
      " [ 2.2]\n",
      " [ 2.9]\n",
      " [ 3. ]\n",
      " [ 3.2]\n",
      " [ 3.2]\n",
      " [ 3.7]\n",
      " [ 3.9]\n",
      " [ 4. ]\n",
      " [ 4. ]\n",
      " [ 4.1]\n",
      " [ 4.5]\n",
      " [ 4.9]\n",
      " [ 5.1]\n",
      " [ 5.3]\n",
      " [ 5.9]\n",
      " [ 6. ]\n",
      " [ 6.8]\n",
      " [ 7.1]\n",
      " [ 7.9]\n",
      " [ 8.2]\n",
      " [ 8.7]\n",
      " [ 9. ]\n",
      " [ 9.5]\n",
      " [ 9.6]\n",
      " [10.3]\n",
      " [10.5]]\n"
     ]
    }
   ],
   "source": [
    "print(features)"
   ]
  },
  {
   "cell_type": "code",
   "execution_count": 11,
   "id": "29ab59a1",
   "metadata": {},
   "outputs": [
    {
     "name": "stdout",
     "output_type": "stream",
     "text": [
      "[ 39343  46205  37731  43525  39891  56642  60150  54445  64445  57189\n",
      "  63218  55794  56957  57081  61111  67938  66029  83088  81363  93940\n",
      "  91738  98273 101302 113812 109431 105582 116969 112635 122391 121872]\n"
     ]
    }
   ],
   "source": [
    "print(target)"
   ]
  },
  {
   "cell_type": "markdown",
   "id": "28947bff",
   "metadata": {},
   "source": [
    "#### Splitting the dataset into training & test data"
   ]
  },
  {
   "cell_type": "code",
   "execution_count": 12,
   "id": "8c0b98d0",
   "metadata": {},
   "outputs": [],
   "source": [
    "X_train, X_test, Y_train, Y_test = train_test_split(features, target, test_size=0.33, random_state = 2)"
   ]
  },
  {
   "cell_type": "markdown",
   "id": "8fdd7117",
   "metadata": {},
   "source": [
    "#### Training the Linear Regression model"
   ]
  },
  {
   "cell_type": "code",
   "execution_count": 13,
   "id": "f454ea81",
   "metadata": {},
   "outputs": [],
   "source": [
    "model = Lasso_Regression(learning_rate = 0.02, no_of_iterations=1000, lambda_parameter=200)"
   ]
  },
  {
   "cell_type": "code",
   "execution_count": 14,
   "id": "bd30c389",
   "metadata": {},
   "outputs": [],
   "source": [
    "model.fit(X_train, Y_train)"
   ]
  },
  {
   "cell_type": "markdown",
   "id": "0e07ec21",
   "metadata": {},
   "source": [
    "#### Predict the salary value for test data"
   ]
  },
  {
   "cell_type": "code",
   "execution_count": 15,
   "id": "7901e60f",
   "metadata": {},
   "outputs": [],
   "source": [
    "test_data_prediction = model.predict(X_test)"
   ]
  },
  {
   "cell_type": "code",
   "execution_count": 16,
   "id": "1e193b08",
   "metadata": {},
   "outputs": [
    {
     "name": "stdout",
     "output_type": "stream",
     "text": [
      "[ 36068.90441536  34166.14804787  66513.00629512  58901.98082518\n",
      "  91248.83907243  80783.67905126 101713.9990936   52242.33353898\n",
      "  42728.55170156  88394.7045212 ]\n"
     ]
    }
   ],
   "source": [
    "print(test_data_prediction)"
   ]
  },
  {
   "cell_type": "code",
   "execution_count": 17,
   "id": "2e884299",
   "metadata": {},
   "outputs": [
    {
     "name": "stdout",
     "output_type": "stream",
     "text": [
      "R squared error :  0.9041366551714738\n",
      "Mean Absolute Error :  6675.382767802961\n"
     ]
    }
   ],
   "source": [
    "from sklearn import metrics\n",
    "\n",
    "# R squared error\n",
    "score_1 = metrics.r2_score(Y_test, test_data_prediction)\n",
    "\n",
    "# Mean Absolute Error\n",
    "score_2 = metrics.mean_absolute_error(Y_test, test_data_prediction)\n",
    "\n",
    "print(\"R squared error : \", score_1)\n",
    "print('Mean Absolute Error : ', score_2)"
   ]
  },
  {
   "cell_type": "markdown",
   "id": "7c4faaaa",
   "metadata": {},
   "source": [
    "#### Comparing the error with SKLearn Lasso Regression"
   ]
  },
  {
   "cell_type": "code",
   "execution_count": 18,
   "id": "ddf83e6d",
   "metadata": {},
   "outputs": [],
   "source": [
    "from sklearn.linear_model import Lasso\n",
    "sk_model = Lasso()"
   ]
  },
  {
   "cell_type": "code",
   "execution_count": 19,
   "id": "73d99782",
   "metadata": {},
   "outputs": [
    {
     "data": {
      "text/plain": [
       "Lasso()"
      ]
     },
     "execution_count": 19,
     "metadata": {},
     "output_type": "execute_result"
    }
   ],
   "source": [
    "sk_model.fit(X_train, Y_train)"
   ]
  },
  {
   "cell_type": "code",
   "execution_count": 20,
   "id": "9e746482",
   "metadata": {},
   "outputs": [],
   "source": [
    "sk_test_data_prediction = sk_model.predict(X_test)"
   ]
  },
  {
   "cell_type": "code",
   "execution_count": 21,
   "id": "5b24f015",
   "metadata": {},
   "outputs": [
    {
     "name": "stdout",
     "output_type": "stream",
     "text": [
      "R squared error :  0.9041817142395875\n",
      "Mean Absolute Error :  6673.480440148538\n"
     ]
    }
   ],
   "source": [
    "# R squared error\n",
    "score_1_ = metrics.r2_score(Y_test, sk_test_data_prediction)\n",
    "\n",
    "# Mean Absolute Error\n",
    "score_2_ = metrics.mean_absolute_error(Y_test, sk_test_data_prediction)\n",
    "\n",
    "print(\"R squared error : \", score_1_)\n",
    "print('Mean Absolute Error : ', score_2_)"
   ]
  }
 ],
 "metadata": {
  "kernelspec": {
   "display_name": "Python 3 (ipykernel)",
   "language": "python",
   "name": "python3"
  },
  "language_info": {
   "codemirror_mode": {
    "name": "ipython",
    "version": 3
   },
   "file_extension": ".py",
   "mimetype": "text/x-python",
   "name": "python",
   "nbconvert_exporter": "python",
   "pygments_lexer": "ipython3",
   "version": "3.10.2"
  }
 },
 "nbformat": 4,
 "nbformat_minor": 5
}
