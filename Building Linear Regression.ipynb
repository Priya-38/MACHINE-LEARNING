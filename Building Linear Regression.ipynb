{
 "cells": [
  {
   "cell_type": "markdown",
   "id": "f3884167",
   "metadata": {},
   "source": [
    "##### Linear Regression"
   ]
  },
  {
   "cell_type": "markdown",
   "id": "3ce64c5c",
   "metadata": {},
   "source": [
    "###### Y = wX + b"
   ]
  },
  {
   "cell_type": "markdown",
   "id": "25c931c6",
   "metadata": {},
   "source": [
    "Y --> Dependent Varibale\n",
    "\n",
    "X --> Independent Variable\n",
    "\n",
    "w --> weight\n",
    "\n",
    "b --> bias"
   ]
  },
  {
   "cell_type": "markdown",
   "id": "707a51f6",
   "metadata": {},
   "source": [
    "###### Gradient Descent:"
   ]
  },
  {
   "cell_type": "markdown",
   "id": "f63e5012",
   "metadata": {},
   "source": [
    "Gradient Descent is an optimization algorithm used for minimizing the loss function in various machine learning algorithms. It is used for updating the parameters of the learning model."
   ]
  },
  {
   "cell_type": "markdown",
   "id": "ddbd8b5a",
   "metadata": {},
   "source": [
    "w = w - α*dw\n",
    "\n",
    "b = b - α*db"
   ]
  },
  {
   "cell_type": "markdown",
   "id": "b80fb087",
   "metadata": {},
   "source": [
    "###### Learning Rate"
   ]
  },
  {
   "cell_type": "markdown",
   "id": "b45627ae",
   "metadata": {},
   "source": [
    "Learning rate is a tuning parameter in an optimization algorithm that determines the step size at each iteration while moving toward a minimum of a loss function."
   ]
  },
  {
   "cell_type": "code",
   "execution_count": 1,
   "id": "e2b43398",
   "metadata": {},
   "outputs": [],
   "source": [
    "#importing numpy library\n",
    "import numpy as np"
   ]
  },
  {
   "cell_type": "markdown",
   "id": "6979f139",
   "metadata": {},
   "source": [
    "###### Linear Regression"
   ]
  },
  {
   "cell_type": "code",
   "execution_count": 25,
   "id": "3028e939",
   "metadata": {},
   "outputs": [],
   "source": [
    "class Linear_Regression():\n",
    "    \n",
    "    #initiating the parameters (learning rate and no. of iterations)\n",
    "    \n",
    "    def __init__ (self, learning_rate, no_of_iterations):\n",
    "        \n",
    "        \n",
    "        self.learning_rate = learning_rate\n",
    "        self.no_of_iterations = no_of_iterations\n",
    "        \n",
    "    def fit(self, X, Y):\n",
    "        #number of training exaamples and number of features\n",
    "        self.m, self.n = X.shape #number of rows and columns\n",
    "        \n",
    "        #implementing teh weight and bias\n",
    "        \n",
    "        self.w = np.zeros(self.n)\n",
    "        self.b = 0\n",
    "        self.X = X\n",
    "        self.Y = Y\n",
    "        \n",
    "        #implementing Gradient Descent\n",
    "        \n",
    "        for i in range(self.no_of_iterations):\n",
    "            self.update_weights()\n",
    "            \n",
    "    def update_weights(self):\n",
    "        Y_prediction = self.predict(self.X)\n",
    "        \n",
    "        #calculate gradients\n",
    "        \n",
    "        dw = - (2 * (self.X.T).dot(self.Y - Y_prediction)) / self.m\n",
    "\n",
    "        db = - 2 * np.sum(self.Y - Y_prediction)/self.m\n",
    "        \n",
    "        # upadating the weights\n",
    "    \n",
    "        self.w = self.w - self.learning_rate*dw\n",
    "        self.b = selb.b - self.learning_rate*db\n",
    "     \n",
    "    #Line function for prediction:\n",
    "    def predict(self, X):\n",
    "        return X.dot(self.w) + self.b\n",
    "\n",
    "        \n",
    "        "
   ]
  }
 ],
 "metadata": {
  "kernelspec": {
   "display_name": "Python 3 (ipykernel)",
   "language": "python",
   "name": "python3"
  },
  "language_info": {
   "codemirror_mode": {
    "name": "ipython",
    "version": 3
   },
   "file_extension": ".py",
   "mimetype": "text/x-python",
   "name": "python",
   "nbconvert_exporter": "python",
   "pygments_lexer": "ipython3",
   "version": "3.10.2"
  }
 },
 "nbformat": 4,
 "nbformat_minor": 5
}
